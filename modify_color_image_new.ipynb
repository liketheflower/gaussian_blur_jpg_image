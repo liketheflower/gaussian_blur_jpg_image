{
 "cells": [
  {
   "cell_type": "code",
   "execution_count": 1,
   "metadata": {
    "collapsed": false,
    "deletable": true,
    "editable": true
   },
   "outputs": [],
   "source": [
    "#change the color image into the grey level\n",
    "#do the edge detector and get the edge image\n",
    "\n",
    "import numpy as np\n",
    "import scipy.ndimage as ndimage\n",
    "import matplotlib.pyplot as plt\n",
    "import matplotlib.image as mpimg\n",
    "import scipy\n",
    "import math\n",
    "import os\n",
    "\n",
    "\n",
    "def gaussian_blur(img_path,image_name):\n",
    "    \n",
    "    \"\"\"This function is used to resolve the programming homework h1. It is used \n",
    "    to do the edge detection based on the sobel filter.\"\"\"\n",
    "    \n",
    "    img = mpimg.imread(img_path+image_name) \n",
    "    #mpimg.imwrite(img)\n",
    "    gaussian_image=ndimage.gaussian_filter(img, sigma=(10, 10, 0), order=0)\n",
    "    #imgplot = plt.imshow(gaussian_image)\n",
    "    mpimg.imsave('/Users/jimmy/Dropbox/pictures/kitty_blur/blur'+image_name,gaussian_image)\n",
    "    #plt.savefig('/Users/jimmy/Dropbox/pictures/kitty_blur/blur'+image_name)\n",
    "\n",
    "\n",
    "if __name__ == '__main__':\n",
    "    # Get the input gray level image based on the file name\n",
    "    img_path = '/Users/jimmy/Dropbox/pictures/kitty/'\n",
    "    for file in os.listdir( img_path ):\n",
    "        if file.endswith(\".jpg\"):\n",
    "            gaussian_blur(img_path,file)"
   ]
  },
  {
   "cell_type": "code",
   "execution_count": null,
   "metadata": {
    "collapsed": false,
    "deletable": true,
    "editable": true
   },
   "outputs": [],
   "source": []
  },
  {
   "cell_type": "code",
   "execution_count": 5,
   "metadata": {
    "collapsed": true,
    "deletable": true,
    "editable": true
   },
   "outputs": [],
   "source": [
    "mpimg.imsave?"
   ]
  },
  {
   "cell_type": "code",
   "execution_count": 1,
   "metadata": {
    "collapsed": false,
    "deletable": true,
    "editable": true
   },
   "outputs": [
    {
     "name": "stdout",
     "output_type": "stream",
     "text": [
      "True\n"
     ]
    }
   ],
   "source": [
    "print (0.3*0.4>0)"
   ]
  },
  {
   "cell_type": "code",
   "execution_count": null,
   "metadata": {
    "collapsed": true,
    "deletable": true,
    "editable": true
   },
   "outputs": [],
   "source": []
  }
 ],
 "metadata": {
  "kernelspec": {
   "display_name": "Python 3",
   "language": "python",
   "name": "python3"
  },
  "language_info": {
   "codemirror_mode": {
    "name": "ipython",
    "version": 3
   },
   "file_extension": ".py",
   "mimetype": "text/x-python",
   "name": "python",
   "nbconvert_exporter": "python",
   "pygments_lexer": "ipython3",
   "version": "3.5.3"
  }
 },
 "nbformat": 4,
 "nbformat_minor": 2
}
